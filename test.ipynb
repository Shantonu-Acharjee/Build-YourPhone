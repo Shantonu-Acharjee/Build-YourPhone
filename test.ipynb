{
 "cells": [
  {
   "cell_type": "code",
   "execution_count": 1,
   "metadata": {},
   "outputs": [],
   "source": [
    "#import pandas as pd\n",
    "import requests\n",
    "from bs4 import BeautifulSoup"
   ]
  },
  {
   "cell_type": "code",
   "execution_count": 7,
   "metadata": {},
   "outputs": [],
   "source": [
    "brawser_header = {\"User-Agent\":\"Mozilla/5.0 (Windows NT 10.0; Win64; x64) AppleWebKit/537.36 (KHTML, like Gecko) Chrome/96.0.4664.110 Safari/537.36\"}\n",
    "url = 'https://www.gsmarena.com.bd/alcatel-1se-2020'"
   ]
  },
  {
   "cell_type": "code",
   "execution_count": 8,
   "metadata": {},
   "outputs": [],
   "source": [
    "webPage = requests.get(url, headers= brawser_header).text\n",
    "soup = BeautifulSoup(webPage, 'lxml')\n"
   ]
  },
  {
   "cell_type": "code",
   "execution_count": 9,
   "metadata": {},
   "outputs": [],
   "source": [
    "phone_price = []\n",
    "\n"
   ]
  },
  {
   "cell_type": "code",
   "execution_count": 10,
   "metadata": {},
   "outputs": [
    {
     "data": {
      "text/plain": [
       "[12990]"
      ]
     },
     "execution_count": 10,
     "metadata": {},
     "output_type": "execute_result"
    }
   ],
   "source": [
    "phone_price"
   ]
  },
  {
   "cell_type": "code",
   "execution_count": 2,
   "metadata": {},
   "outputs": [],
   "source": [
    "import pandas as pd\n",
    "\n",
    "df = pd.read_csv('mobilePhone.csv')"
   ]
  },
  {
   "cell_type": "code",
   "execution_count": 3,
   "metadata": {},
   "outputs": [
    {
     "data": {
      "text/html": [
       "<div>\n",
       "<style scoped>\n",
       "    .dataframe tbody tr th:only-of-type {\n",
       "        vertical-align: middle;\n",
       "    }\n",
       "\n",
       "    .dataframe tbody tr th {\n",
       "        vertical-align: top;\n",
       "    }\n",
       "\n",
       "    .dataframe thead th {\n",
       "        text-align: right;\n",
       "    }\n",
       "</style>\n",
       "<table border=\"1\" class=\"dataframe\">\n",
       "  <thead>\n",
       "    <tr style=\"text-align: right;\">\n",
       "      <th></th>\n",
       "      <th>Mobile_Model</th>\n",
       "      <th>Mobile_Photo_Link</th>\n",
       "    </tr>\n",
       "  </thead>\n",
       "  <tbody>\n",
       "    <tr>\n",
       "      <th>0</th>\n",
       "      <td>alcatel-1se-2020</td>\n",
       "      <td>https://www.gsmarena.com.bd/images/products/th...</td>\n",
       "    </tr>\n",
       "    <tr>\n",
       "      <th>1</th>\n",
       "      <td>alcatel-3x-2020</td>\n",
       "      <td>https://www.gsmarena.com.bd/images/products/th...</td>\n",
       "    </tr>\n",
       "    <tr>\n",
       "      <th>2</th>\n",
       "      <td>alcatel-3v-2019</td>\n",
       "      <td>https://www.gsmarena.com.bd/images/products/th...</td>\n",
       "    </tr>\n",
       "    <tr>\n",
       "      <th>3</th>\n",
       "      <td>alcatel-1v-2020</td>\n",
       "      <td>https://www.gsmarena.com.bd/images/products/th...</td>\n",
       "    </tr>\n",
       "    <tr>\n",
       "      <th>4</th>\n",
       "      <td>alcatel-1s-2020</td>\n",
       "      <td>https://www.gsmarena.com.bd/images/products/th...</td>\n",
       "    </tr>\n",
       "    <tr>\n",
       "      <th>...</th>\n",
       "      <td>...</td>\n",
       "      <td>...</td>\n",
       "    </tr>\n",
       "    <tr>\n",
       "      <th>3732</th>\n",
       "      <td>google-pixel-2-xl</td>\n",
       "      <td>https://www.gsmarena.com.bd/images/products/th...</td>\n",
       "    </tr>\n",
       "    <tr>\n",
       "      <th>3733</th>\n",
       "      <td>google-pixel-2</td>\n",
       "      <td>https://www.gsmarena.com.bd/images/products/th...</td>\n",
       "    </tr>\n",
       "    <tr>\n",
       "      <th>3734</th>\n",
       "      <td>google-pixel</td>\n",
       "      <td>https://www.gsmarena.com.bd/images/products/th...</td>\n",
       "    </tr>\n",
       "    <tr>\n",
       "      <th>3735</th>\n",
       "      <td>google-pixel-xl</td>\n",
       "      <td>https://www.gsmarena.com.bd/images/products/th...</td>\n",
       "    </tr>\n",
       "    <tr>\n",
       "      <th>3736</th>\n",
       "      <td>nothing-phone-1</td>\n",
       "      <td>https://www.gsmarena.com.bd/images/products/th...</td>\n",
       "    </tr>\n",
       "  </tbody>\n",
       "</table>\n",
       "<p>3737 rows × 2 columns</p>\n",
       "</div>"
      ],
      "text/plain": [
       "           Mobile_Model                                  Mobile_Photo_Link\n",
       "0      alcatel-1se-2020  https://www.gsmarena.com.bd/images/products/th...\n",
       "1       alcatel-3x-2020  https://www.gsmarena.com.bd/images/products/th...\n",
       "2       alcatel-3v-2019  https://www.gsmarena.com.bd/images/products/th...\n",
       "3       alcatel-1v-2020  https://www.gsmarena.com.bd/images/products/th...\n",
       "4       alcatel-1s-2020  https://www.gsmarena.com.bd/images/products/th...\n",
       "...                 ...                                                ...\n",
       "3732  google-pixel-2-xl  https://www.gsmarena.com.bd/images/products/th...\n",
       "3733     google-pixel-2  https://www.gsmarena.com.bd/images/products/th...\n",
       "3734       google-pixel  https://www.gsmarena.com.bd/images/products/th...\n",
       "3735    google-pixel-xl  https://www.gsmarena.com.bd/images/products/th...\n",
       "3736    nothing-phone-1  https://www.gsmarena.com.bd/images/products/th...\n",
       "\n",
       "[3737 rows x 2 columns]"
      ]
     },
     "execution_count": 3,
     "metadata": {},
     "output_type": "execute_result"
    }
   ],
   "source": [
    "df\n"
   ]
  },
  {
   "cell_type": "code",
   "execution_count": 5,
   "metadata": {},
   "outputs": [
    {
     "data": {
      "text/plain": [
       "3737"
      ]
     },
     "execution_count": 5,
     "metadata": {},
     "output_type": "execute_result"
    }
   ],
   "source": [
    "len(df['Mobile_Photo_Link'])"
   ]
  },
  {
   "cell_type": "code",
   "execution_count": 6,
   "metadata": {},
   "outputs": [
    {
     "data": {
      "text/plain": [
       "3737"
      ]
     },
     "execution_count": 6,
     "metadata": {},
     "output_type": "execute_result"
    }
   ],
   "source": [
    "len(df['Mobile_Model'])"
   ]
  },
  {
   "cell_type": "code",
   "execution_count": 1,
   "metadata": {},
   "outputs": [],
   "source": [
    "import json\n",
    "f = open('MobileMenu.json', 'r')\n",
    "data = json.load(f)"
   ]
  },
  {
   "cell_type": "code",
   "execution_count": 2,
   "metadata": {},
   "outputs": [
    {
     "data": {
      "text/plain": [
       "{'series': {'samsung': ['Note', 'S', 'Z']}}"
      ]
     },
     "execution_count": 2,
     "metadata": {},
     "output_type": "execute_result"
    }
   ],
   "source": [
    "data"
   ]
  },
  {
   "cell_type": "code",
   "execution_count": 3,
   "metadata": {},
   "outputs": [
    {
     "data": {
      "text/plain": [
       "{'samsung': ['Note', 'S', 'Z']}"
      ]
     },
     "execution_count": 3,
     "metadata": {},
     "output_type": "execute_result"
    }
   ],
   "source": [
    "data['series']"
   ]
  },
  {
   "cell_type": "code",
   "execution_count": 6,
   "metadata": {},
   "outputs": [
    {
     "data": {
      "text/plain": [
       "['Note', 'S', 'Z']"
      ]
     },
     "execution_count": 6,
     "metadata": {},
     "output_type": "execute_result"
    }
   ],
   "source": [
    "data['series']['samsung']"
   ]
  },
  {
   "cell_type": "code",
   "execution_count": 1,
   "metadata": {},
   "outputs": [],
   "source": [
    "import pandas as pd"
   ]
  },
  {
   "cell_type": "code",
   "execution_count": 2,
   "metadata": {},
   "outputs": [],
   "source": [
    "df = pd.read_csv('static/s.csv')"
   ]
  },
  {
   "cell_type": "code",
   "execution_count": 5,
   "metadata": {},
   "outputs": [
    {
     "data": {
      "text/html": [
       "<div>\n",
       "<style scoped>\n",
       "    .dataframe tbody tr th:only-of-type {\n",
       "        vertical-align: middle;\n",
       "    }\n",
       "\n",
       "    .dataframe tbody tr th {\n",
       "        vertical-align: top;\n",
       "    }\n",
       "\n",
       "    .dataframe thead th {\n",
       "        text-align: right;\n",
       "    }\n",
       "</style>\n",
       "<table border=\"1\" class=\"dataframe\">\n",
       "  <thead>\n",
       "    <tr style=\"text-align: right;\">\n",
       "      <th></th>\n",
       "      <th>brand_name</th>\n",
       "      <th>model</th>\n",
       "      <th>price</th>\n",
       "      <th>rating</th>\n",
       "      <th>has_5g</th>\n",
       "      <th>has_nfc</th>\n",
       "      <th>has_ir_blaster</th>\n",
       "      <th>processor_brand</th>\n",
       "      <th>num_cores</th>\n",
       "      <th>processor_speed</th>\n",
       "      <th>...</th>\n",
       "      <th>refresh_rate</th>\n",
       "      <th>num_rear_cameras</th>\n",
       "      <th>num_front_cameras</th>\n",
       "      <th>os</th>\n",
       "      <th>primary_camera_rear</th>\n",
       "      <th>primary_camera_front</th>\n",
       "      <th>extended_memory_available</th>\n",
       "      <th>extended_upto</th>\n",
       "      <th>resolution_width</th>\n",
       "      <th>resolution_height</th>\n",
       "    </tr>\n",
       "  </thead>\n",
       "  <tbody>\n",
       "    <tr>\n",
       "      <th>0</th>\n",
       "      <td>oneplus</td>\n",
       "      <td>OnePlus 11 5G</td>\n",
       "      <td>54999</td>\n",
       "      <td>89.0</td>\n",
       "      <td>True</td>\n",
       "      <td>True</td>\n",
       "      <td>False</td>\n",
       "      <td>snapdragon</td>\n",
       "      <td>8.0</td>\n",
       "      <td>3.20</td>\n",
       "      <td>...</td>\n",
       "      <td>120</td>\n",
       "      <td>3</td>\n",
       "      <td>1.0</td>\n",
       "      <td>android</td>\n",
       "      <td>50.0</td>\n",
       "      <td>16.0</td>\n",
       "      <td>0</td>\n",
       "      <td>NaN</td>\n",
       "      <td>1440</td>\n",
       "      <td>3216</td>\n",
       "    </tr>\n",
       "    <tr>\n",
       "      <th>1</th>\n",
       "      <td>oneplus</td>\n",
       "      <td>OnePlus Nord CE 2 Lite 5G</td>\n",
       "      <td>19989</td>\n",
       "      <td>81.0</td>\n",
       "      <td>True</td>\n",
       "      <td>False</td>\n",
       "      <td>False</td>\n",
       "      <td>snapdragon</td>\n",
       "      <td>8.0</td>\n",
       "      <td>2.20</td>\n",
       "      <td>...</td>\n",
       "      <td>120</td>\n",
       "      <td>3</td>\n",
       "      <td>1.0</td>\n",
       "      <td>android</td>\n",
       "      <td>64.0</td>\n",
       "      <td>16.0</td>\n",
       "      <td>1</td>\n",
       "      <td>1024.0</td>\n",
       "      <td>1080</td>\n",
       "      <td>2412</td>\n",
       "    </tr>\n",
       "    <tr>\n",
       "      <th>2</th>\n",
       "      <td>samsung</td>\n",
       "      <td>Samsung Galaxy A14 5G</td>\n",
       "      <td>16499</td>\n",
       "      <td>75.0</td>\n",
       "      <td>True</td>\n",
       "      <td>False</td>\n",
       "      <td>False</td>\n",
       "      <td>exynos</td>\n",
       "      <td>8.0</td>\n",
       "      <td>2.40</td>\n",
       "      <td>...</td>\n",
       "      <td>90</td>\n",
       "      <td>3</td>\n",
       "      <td>1.0</td>\n",
       "      <td>android</td>\n",
       "      <td>50.0</td>\n",
       "      <td>13.0</td>\n",
       "      <td>1</td>\n",
       "      <td>1024.0</td>\n",
       "      <td>1080</td>\n",
       "      <td>2408</td>\n",
       "    </tr>\n",
       "    <tr>\n",
       "      <th>3</th>\n",
       "      <td>motorola</td>\n",
       "      <td>Motorola Moto G62 5G</td>\n",
       "      <td>14999</td>\n",
       "      <td>81.0</td>\n",
       "      <td>True</td>\n",
       "      <td>False</td>\n",
       "      <td>False</td>\n",
       "      <td>snapdragon</td>\n",
       "      <td>8.0</td>\n",
       "      <td>2.20</td>\n",
       "      <td>...</td>\n",
       "      <td>120</td>\n",
       "      <td>3</td>\n",
       "      <td>1.0</td>\n",
       "      <td>android</td>\n",
       "      <td>50.0</td>\n",
       "      <td>16.0</td>\n",
       "      <td>1</td>\n",
       "      <td>1024.0</td>\n",
       "      <td>1080</td>\n",
       "      <td>2400</td>\n",
       "    </tr>\n",
       "    <tr>\n",
       "      <th>4</th>\n",
       "      <td>realme</td>\n",
       "      <td>Realme 10 Pro Plus</td>\n",
       "      <td>24999</td>\n",
       "      <td>82.0</td>\n",
       "      <td>True</td>\n",
       "      <td>False</td>\n",
       "      <td>False</td>\n",
       "      <td>dimensity</td>\n",
       "      <td>8.0</td>\n",
       "      <td>2.60</td>\n",
       "      <td>...</td>\n",
       "      <td>120</td>\n",
       "      <td>3</td>\n",
       "      <td>1.0</td>\n",
       "      <td>android</td>\n",
       "      <td>108.0</td>\n",
       "      <td>16.0</td>\n",
       "      <td>0</td>\n",
       "      <td>NaN</td>\n",
       "      <td>1080</td>\n",
       "      <td>2412</td>\n",
       "    </tr>\n",
       "    <tr>\n",
       "      <th>...</th>\n",
       "      <td>...</td>\n",
       "      <td>...</td>\n",
       "      <td>...</td>\n",
       "      <td>...</td>\n",
       "      <td>...</td>\n",
       "      <td>...</td>\n",
       "      <td>...</td>\n",
       "      <td>...</td>\n",
       "      <td>...</td>\n",
       "      <td>...</td>\n",
       "      <td>...</td>\n",
       "      <td>...</td>\n",
       "      <td>...</td>\n",
       "      <td>...</td>\n",
       "      <td>...</td>\n",
       "      <td>...</td>\n",
       "      <td>...</td>\n",
       "      <td>...</td>\n",
       "      <td>...</td>\n",
       "      <td>...</td>\n",
       "      <td>...</td>\n",
       "    </tr>\n",
       "    <tr>\n",
       "      <th>975</th>\n",
       "      <td>motorola</td>\n",
       "      <td>Motorola Moto Edge S30 Pro</td>\n",
       "      <td>34990</td>\n",
       "      <td>83.0</td>\n",
       "      <td>True</td>\n",
       "      <td>False</td>\n",
       "      <td>False</td>\n",
       "      <td>snapdragon</td>\n",
       "      <td>8.0</td>\n",
       "      <td>3.00</td>\n",
       "      <td>...</td>\n",
       "      <td>120</td>\n",
       "      <td>3</td>\n",
       "      <td>1.0</td>\n",
       "      <td>android</td>\n",
       "      <td>64.0</td>\n",
       "      <td>16.0</td>\n",
       "      <td>0</td>\n",
       "      <td>NaN</td>\n",
       "      <td>1080</td>\n",
       "      <td>2460</td>\n",
       "    </tr>\n",
       "    <tr>\n",
       "      <th>976</th>\n",
       "      <td>honor</td>\n",
       "      <td>Honor X8 5G</td>\n",
       "      <td>14990</td>\n",
       "      <td>75.0</td>\n",
       "      <td>True</td>\n",
       "      <td>False</td>\n",
       "      <td>False</td>\n",
       "      <td>snapdragon</td>\n",
       "      <td>8.0</td>\n",
       "      <td>2.20</td>\n",
       "      <td>...</td>\n",
       "      <td>60</td>\n",
       "      <td>3</td>\n",
       "      <td>1.0</td>\n",
       "      <td>android</td>\n",
       "      <td>48.0</td>\n",
       "      <td>8.0</td>\n",
       "      <td>1</td>\n",
       "      <td>1024.0</td>\n",
       "      <td>720</td>\n",
       "      <td>1600</td>\n",
       "    </tr>\n",
       "    <tr>\n",
       "      <th>977</th>\n",
       "      <td>poco</td>\n",
       "      <td>POCO X4 GT 5G (8GB RAM + 256GB)</td>\n",
       "      <td>28990</td>\n",
       "      <td>85.0</td>\n",
       "      <td>True</td>\n",
       "      <td>True</td>\n",
       "      <td>True</td>\n",
       "      <td>dimensity</td>\n",
       "      <td>8.0</td>\n",
       "      <td>2.85</td>\n",
       "      <td>...</td>\n",
       "      <td>144</td>\n",
       "      <td>3</td>\n",
       "      <td>1.0</td>\n",
       "      <td>android</td>\n",
       "      <td>64.0</td>\n",
       "      <td>16.0</td>\n",
       "      <td>0</td>\n",
       "      <td>NaN</td>\n",
       "      <td>1080</td>\n",
       "      <td>2460</td>\n",
       "    </tr>\n",
       "    <tr>\n",
       "      <th>978</th>\n",
       "      <td>motorola</td>\n",
       "      <td>Motorola Moto G91 5G</td>\n",
       "      <td>19990</td>\n",
       "      <td>80.0</td>\n",
       "      <td>True</td>\n",
       "      <td>True</td>\n",
       "      <td>False</td>\n",
       "      <td>snapdragon</td>\n",
       "      <td>8.0</td>\n",
       "      <td>2.20</td>\n",
       "      <td>...</td>\n",
       "      <td>60</td>\n",
       "      <td>3</td>\n",
       "      <td>1.0</td>\n",
       "      <td>android</td>\n",
       "      <td>108.0</td>\n",
       "      <td>32.0</td>\n",
       "      <td>1</td>\n",
       "      <td>1024.0</td>\n",
       "      <td>1080</td>\n",
       "      <td>2400</td>\n",
       "    </tr>\n",
       "    <tr>\n",
       "      <th>979</th>\n",
       "      <td>samsung</td>\n",
       "      <td>Samsung Galaxy M52s 5G</td>\n",
       "      <td>24990</td>\n",
       "      <td>74.0</td>\n",
       "      <td>True</td>\n",
       "      <td>False</td>\n",
       "      <td>False</td>\n",
       "      <td>NaN</td>\n",
       "      <td>8.0</td>\n",
       "      <td>NaN</td>\n",
       "      <td>...</td>\n",
       "      <td>60</td>\n",
       "      <td>3</td>\n",
       "      <td>1.0</td>\n",
       "      <td>android</td>\n",
       "      <td>64.0</td>\n",
       "      <td>32.0</td>\n",
       "      <td>1</td>\n",
       "      <td>1024.0</td>\n",
       "      <td>1080</td>\n",
       "      <td>2400</td>\n",
       "    </tr>\n",
       "  </tbody>\n",
       "</table>\n",
       "<p>980 rows × 26 columns</p>\n",
       "</div>"
      ],
      "text/plain": [
       "    brand_name                            model  price  rating  has_5g  \\\n",
       "0      oneplus                    OnePlus 11 5G  54999    89.0    True   \n",
       "1      oneplus        OnePlus Nord CE 2 Lite 5G  19989    81.0    True   \n",
       "2      samsung            Samsung Galaxy A14 5G  16499    75.0    True   \n",
       "3     motorola             Motorola Moto G62 5G  14999    81.0    True   \n",
       "4       realme               Realme 10 Pro Plus  24999    82.0    True   \n",
       "..         ...                              ...    ...     ...     ...   \n",
       "975   motorola       Motorola Moto Edge S30 Pro  34990    83.0    True   \n",
       "976      honor                      Honor X8 5G  14990    75.0    True   \n",
       "977       poco  POCO X4 GT 5G (8GB RAM + 256GB)  28990    85.0    True   \n",
       "978   motorola             Motorola Moto G91 5G  19990    80.0    True   \n",
       "979    samsung           Samsung Galaxy M52s 5G  24990    74.0    True   \n",
       "\n",
       "     has_nfc  has_ir_blaster processor_brand  num_cores  processor_speed  ...  \\\n",
       "0       True           False      snapdragon        8.0             3.20  ...   \n",
       "1      False           False      snapdragon        8.0             2.20  ...   \n",
       "2      False           False          exynos        8.0             2.40  ...   \n",
       "3      False           False      snapdragon        8.0             2.20  ...   \n",
       "4      False           False       dimensity        8.0             2.60  ...   \n",
       "..       ...             ...             ...        ...              ...  ...   \n",
       "975    False           False      snapdragon        8.0             3.00  ...   \n",
       "976    False           False      snapdragon        8.0             2.20  ...   \n",
       "977     True            True       dimensity        8.0             2.85  ...   \n",
       "978     True           False      snapdragon        8.0             2.20  ...   \n",
       "979    False           False             NaN        8.0              NaN  ...   \n",
       "\n",
       "     refresh_rate  num_rear_cameras  num_front_cameras       os  \\\n",
       "0             120                 3                1.0  android   \n",
       "1             120                 3                1.0  android   \n",
       "2              90                 3                1.0  android   \n",
       "3             120                 3                1.0  android   \n",
       "4             120                 3                1.0  android   \n",
       "..            ...               ...                ...      ...   \n",
       "975           120                 3                1.0  android   \n",
       "976            60                 3                1.0  android   \n",
       "977           144                 3                1.0  android   \n",
       "978            60                 3                1.0  android   \n",
       "979            60                 3                1.0  android   \n",
       "\n",
       "     primary_camera_rear  primary_camera_front  extended_memory_available  \\\n",
       "0                   50.0                  16.0                          0   \n",
       "1                   64.0                  16.0                          1   \n",
       "2                   50.0                  13.0                          1   \n",
       "3                   50.0                  16.0                          1   \n",
       "4                  108.0                  16.0                          0   \n",
       "..                   ...                   ...                        ...   \n",
       "975                 64.0                  16.0                          0   \n",
       "976                 48.0                   8.0                          1   \n",
       "977                 64.0                  16.0                          0   \n",
       "978                108.0                  32.0                          1   \n",
       "979                 64.0                  32.0                          1   \n",
       "\n",
       "     extended_upto  resolution_width resolution_height  \n",
       "0              NaN              1440              3216  \n",
       "1           1024.0              1080              2412  \n",
       "2           1024.0              1080              2408  \n",
       "3           1024.0              1080              2400  \n",
       "4              NaN              1080              2412  \n",
       "..             ...               ...               ...  \n",
       "975            NaN              1080              2460  \n",
       "976         1024.0               720              1600  \n",
       "977            NaN              1080              2460  \n",
       "978         1024.0              1080              2400  \n",
       "979         1024.0              1080              2400  \n",
       "\n",
       "[980 rows x 26 columns]"
      ]
     },
     "execution_count": 5,
     "metadata": {},
     "output_type": "execute_result"
    }
   ],
   "source": [
    "df"
   ]
  },
  {
   "cell_type": "code",
   "execution_count": 3,
   "metadata": {},
   "outputs": [
    {
     "data": {
      "text/plain": [
       "54999"
      ]
     },
     "execution_count": 3,
     "metadata": {},
     "output_type": "execute_result"
    }
   ],
   "source": [
    "df[df['model']== 'OnePlus 11 5G']['price'][0]"
   ]
  },
  {
   "cell_type": "code",
   "execution_count": 7,
   "metadata": {},
   "outputs": [
    {
     "data": {
      "text/plain": [
       "array(['oneplus', 'samsung', 'motorola', 'realme', 'apple', 'xiaomi',\n",
       "       'nothing', 'oppo', 'vivo', 'poco', 'iqoo', 'jio', 'gionee',\n",
       "       'tecno', 'tesla', 'google', 'infinix', 'cola', 'letv', 'ikall',\n",
       "       'leeco', 'duoqin', 'nokia', 'lava', 'honor', 'nubia', 'redmi',\n",
       "       'asus', 'itel', 'royole', 'sony', 'oukitel', 'vertu', 'blu', 'lyf',\n",
       "       'huawei', 'zte', 'lenovo', 'lg', 'micromax', 'leitz', 'cat',\n",
       "       'doogee', 'tcl', 'sharp', 'blackview'], dtype=object)"
      ]
     },
     "execution_count": 7,
     "metadata": {},
     "output_type": "execute_result"
    }
   ],
   "source": [
    "df['brand_name'].unique()"
   ]
  },
  {
   "cell_type": "code",
   "execution_count": 11,
   "metadata": {},
   "outputs": [
    {
     "data": {
      "text/plain": [
       "0                                    OnePlus 11 5G\n",
       "1                        OnePlus Nord CE 2 Lite 5G\n",
       "9                               OnePlus Nord 2T 5G\n",
       "18                                  OnePlus 10R 5G\n",
       "20                                     OnePlus 11R\n",
       "26     OnePlus Nord CE 2 Lite 5G (8GB RAM + 128GB)\n",
       "29                                  OnePlus 11 Pro\n",
       "40                            OnePlus Nord CE 3 5G\n",
       "66                               OnePlus 10 Pro 5G\n",
       "73                                     OnePlus 10T\n",
       "91                   OnePlus Ace Racing Edition 5G\n",
       "109              OnePlus 10R 5G (12GB RAM + 256GB)\n",
       "121             OnePlus Nord 2T (12GB RAM + 256GB)\n",
       "127    OnePlus Nord CE 2 Lite 5G (8GB RAM + 256GB)\n",
       "144                                 OnePlus Clover\n",
       "185                              OnePlus Nord 3 5G\n",
       "196                      OnePlus Nord CE 3 Lite 5G\n",
       "229           OnePlus 10 Pro 5G (12GB RAM + 256GB)\n",
       "266                                  OnePlus Ace 2\n",
       "306                 OnePlus 10T (16GB RAM + 256GB)\n",
       "309                                 OnePlus 9RT 5G\n",
       "337                                  OnePlus 9 Pro\n",
       "343                            OnePlus Nord N20 5G\n",
       "364                 OnePlus 10T (12GB RAM + 256GB)\n",
       "410                              OnePlus Nord N200\n",
       "421           OnePlus 10 Pro 5G (12GB RAM + 512GB)\n",
       "499                    OnePlus 6 (8GB RAM + 128GB)\n",
       "510                                 OnePlus 12 Pro\n",
       "526                      OnePlus 10R Prime Edition\n",
       "550                             OnePlus Nord 3T 5G\n",
       "592                              OnePlus Nord Lite\n",
       "624                         OnePlus Nord 2 Lite 5G\n",
       "640                                 OnePlus Nord 5\n",
       "688                               OnePlus Nord N10\n",
       "793                              OnePlus Nord N300\n",
       "855                              OnePlus Nord 4 5G\n",
       "857                                 OnePlus Ace 5G\n",
       "871                                     OnePlus 9T\n",
       "877                                OnePlus Nord SE\n",
       "879                              OnePlus Nord N100\n",
       "908                                OnePlus Ace Pro\n",
       "949                                      OnePlus Z\n",
       "Name: model, dtype: object"
      ]
     },
     "execution_count": 11,
     "metadata": {},
     "output_type": "execute_result"
    }
   ],
   "source": [
    "df[df['brand_name']== 'oneplus']['model']"
   ]
  },
  {
   "cell_type": "code",
   "execution_count": null,
   "metadata": {},
   "outputs": [],
   "source": []
  }
 ],
 "metadata": {
  "kernelspec": {
   "display_name": "base",
   "language": "python",
   "name": "python3"
  },
  "language_info": {
   "codemirror_mode": {
    "name": "ipython",
    "version": 3
   },
   "file_extension": ".py",
   "mimetype": "text/x-python",
   "name": "python",
   "nbconvert_exporter": "python",
   "pygments_lexer": "ipython3",
   "version": "3.9.13"
  },
  "orig_nbformat": 4,
  "vscode": {
   "interpreter": {
    "hash": "6c3871cf02a2f59a632c5cca92df16eb51e6d6301ada73dfd082e02307ef571f"
   }
  }
 },
 "nbformat": 4,
 "nbformat_minor": 2
}
