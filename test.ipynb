{
 "cells": [
  {
   "cell_type": "code",
   "execution_count": 1,
   "metadata": {},
   "outputs": [],
   "source": [
    "#import pandas as pd\n",
    "import requests\n",
    "from bs4 import BeautifulSoup"
   ]
  },
  {
   "cell_type": "code",
   "execution_count": 7,
   "metadata": {},
   "outputs": [],
   "source": [
    "brawser_header = {\"User-Agent\":\"Mozilla/5.0 (Windows NT 10.0; Win64; x64) AppleWebKit/537.36 (KHTML, like Gecko) Chrome/96.0.4664.110 Safari/537.36\"}\n",
    "url = 'https://www.gsmarena.com.bd/alcatel-1se-2020'"
   ]
  },
  {
   "cell_type": "code",
   "execution_count": 8,
   "metadata": {},
   "outputs": [],
   "source": [
    "webPage = requests.get(url, headers= brawser_header).text\n",
    "soup = BeautifulSoup(webPage, 'lxml')\n"
   ]
  },
  {
   "cell_type": "code",
   "execution_count": 9,
   "metadata": {},
   "outputs": [],
   "source": [
    "phone_price = []\n",
    "\n"
   ]
  },
  {
   "cell_type": "code",
   "execution_count": 10,
   "metadata": {},
   "outputs": [
    {
     "data": {
      "text/plain": [
       "[12990]"
      ]
     },
     "execution_count": 10,
     "metadata": {},
     "output_type": "execute_result"
    }
   ],
   "source": [
    "phone_price"
   ]
  },
  {
   "cell_type": "code",
   "execution_count": 2,
   "metadata": {},
   "outputs": [],
   "source": [
    "import pandas as pd\n",
    "\n",
    "df = pd.read_csv('mobilePhone.csv')"
   ]
  },
  {
   "cell_type": "code",
   "execution_count": 3,
   "metadata": {},
   "outputs": [
    {
     "data": {
      "text/html": [
       "<div>\n",
       "<style scoped>\n",
       "    .dataframe tbody tr th:only-of-type {\n",
       "        vertical-align: middle;\n",
       "    }\n",
       "\n",
       "    .dataframe tbody tr th {\n",
       "        vertical-align: top;\n",
       "    }\n",
       "\n",
       "    .dataframe thead th {\n",
       "        text-align: right;\n",
       "    }\n",
       "</style>\n",
       "<table border=\"1\" class=\"dataframe\">\n",
       "  <thead>\n",
       "    <tr style=\"text-align: right;\">\n",
       "      <th></th>\n",
       "      <th>Mobile_Model</th>\n",
       "      <th>Mobile_Photo_Link</th>\n",
       "    </tr>\n",
       "  </thead>\n",
       "  <tbody>\n",
       "    <tr>\n",
       "      <th>0</th>\n",
       "      <td>alcatel-1se-2020</td>\n",
       "      <td>https://www.gsmarena.com.bd/images/products/th...</td>\n",
       "    </tr>\n",
       "    <tr>\n",
       "      <th>1</th>\n",
       "      <td>alcatel-3x-2020</td>\n",
       "      <td>https://www.gsmarena.com.bd/images/products/th...</td>\n",
       "    </tr>\n",
       "    <tr>\n",
       "      <th>2</th>\n",
       "      <td>alcatel-3v-2019</td>\n",
       "      <td>https://www.gsmarena.com.bd/images/products/th...</td>\n",
       "    </tr>\n",
       "    <tr>\n",
       "      <th>3</th>\n",
       "      <td>alcatel-1v-2020</td>\n",
       "      <td>https://www.gsmarena.com.bd/images/products/th...</td>\n",
       "    </tr>\n",
       "    <tr>\n",
       "      <th>4</th>\n",
       "      <td>alcatel-1s-2020</td>\n",
       "      <td>https://www.gsmarena.com.bd/images/products/th...</td>\n",
       "    </tr>\n",
       "    <tr>\n",
       "      <th>...</th>\n",
       "      <td>...</td>\n",
       "      <td>...</td>\n",
       "    </tr>\n",
       "    <tr>\n",
       "      <th>3732</th>\n",
       "      <td>google-pixel-2-xl</td>\n",
       "      <td>https://www.gsmarena.com.bd/images/products/th...</td>\n",
       "    </tr>\n",
       "    <tr>\n",
       "      <th>3733</th>\n",
       "      <td>google-pixel-2</td>\n",
       "      <td>https://www.gsmarena.com.bd/images/products/th...</td>\n",
       "    </tr>\n",
       "    <tr>\n",
       "      <th>3734</th>\n",
       "      <td>google-pixel</td>\n",
       "      <td>https://www.gsmarena.com.bd/images/products/th...</td>\n",
       "    </tr>\n",
       "    <tr>\n",
       "      <th>3735</th>\n",
       "      <td>google-pixel-xl</td>\n",
       "      <td>https://www.gsmarena.com.bd/images/products/th...</td>\n",
       "    </tr>\n",
       "    <tr>\n",
       "      <th>3736</th>\n",
       "      <td>nothing-phone-1</td>\n",
       "      <td>https://www.gsmarena.com.bd/images/products/th...</td>\n",
       "    </tr>\n",
       "  </tbody>\n",
       "</table>\n",
       "<p>3737 rows × 2 columns</p>\n",
       "</div>"
      ],
      "text/plain": [
       "           Mobile_Model                                  Mobile_Photo_Link\n",
       "0      alcatel-1se-2020  https://www.gsmarena.com.bd/images/products/th...\n",
       "1       alcatel-3x-2020  https://www.gsmarena.com.bd/images/products/th...\n",
       "2       alcatel-3v-2019  https://www.gsmarena.com.bd/images/products/th...\n",
       "3       alcatel-1v-2020  https://www.gsmarena.com.bd/images/products/th...\n",
       "4       alcatel-1s-2020  https://www.gsmarena.com.bd/images/products/th...\n",
       "...                 ...                                                ...\n",
       "3732  google-pixel-2-xl  https://www.gsmarena.com.bd/images/products/th...\n",
       "3733     google-pixel-2  https://www.gsmarena.com.bd/images/products/th...\n",
       "3734       google-pixel  https://www.gsmarena.com.bd/images/products/th...\n",
       "3735    google-pixel-xl  https://www.gsmarena.com.bd/images/products/th...\n",
       "3736    nothing-phone-1  https://www.gsmarena.com.bd/images/products/th...\n",
       "\n",
       "[3737 rows x 2 columns]"
      ]
     },
     "execution_count": 3,
     "metadata": {},
     "output_type": "execute_result"
    }
   ],
   "source": [
    "df\n"
   ]
  },
  {
   "cell_type": "code",
   "execution_count": 5,
   "metadata": {},
   "outputs": [
    {
     "data": {
      "text/plain": [
       "3737"
      ]
     },
     "execution_count": 5,
     "metadata": {},
     "output_type": "execute_result"
    }
   ],
   "source": [
    "len(df['Mobile_Photo_Link'])"
   ]
  },
  {
   "cell_type": "code",
   "execution_count": 6,
   "metadata": {},
   "outputs": [
    {
     "data": {
      "text/plain": [
       "3737"
      ]
     },
     "execution_count": 6,
     "metadata": {},
     "output_type": "execute_result"
    }
   ],
   "source": [
    "len(df['Mobile_Model'])"
   ]
  }
 ],
 "metadata": {
  "kernelspec": {
   "display_name": "base",
   "language": "python",
   "name": "python3"
  },
  "language_info": {
   "codemirror_mode": {
    "name": "ipython",
    "version": 3
   },
   "file_extension": ".py",
   "mimetype": "text/x-python",
   "name": "python",
   "nbconvert_exporter": "python",
   "pygments_lexer": "ipython3",
   "version": "3.9.13"
  },
  "orig_nbformat": 4,
  "vscode": {
   "interpreter": {
    "hash": "6c3871cf02a2f59a632c5cca92df16eb51e6d6301ada73dfd082e02307ef571f"
   }
  }
 },
 "nbformat": 4,
 "nbformat_minor": 2
}
